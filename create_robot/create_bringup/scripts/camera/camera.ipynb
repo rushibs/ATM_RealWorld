{
 "cells": [
  {
   "cell_type": "code",
   "execution_count": 4,
   "metadata": {},
   "outputs": [],
   "source": [
    "import requests\n",
    "import json\n",
    "import time"
   ]
  },
  {
   "cell_type": "code",
   "execution_count": 8,
   "metadata": {},
   "outputs": [
    {
     "name": "stdout",
     "output_type": "stream",
     "text": [
      "total time used:  14.237843990325928\n"
     ]
    }
   ],
   "source": [
    "# Ethernet connection ipv4 address: 192.168.1.100, mask: 255.255.255.0\n",
    "\n",
    "# Connecting. \n",
    "\n",
    "# Every post you have a parameter and a header\n",
    "connect_param = {\n",
    "    \"name\": \"camera._connect\",\n",
    "    \"parameters\": {\n",
    "        \"hw_time\": \"MMDDhhmm[[CC]YY][.ss]\",\n",
    "        \"time_zone\": \"EST-05:00/EDT-04:00\"\n",
    "    }\n",
    "}\n",
    "\n",
    "# header for meta data\n",
    "connect_header = {\n",
    "    \"Fingerprint\":\"\",\n",
    "    \"Content-Type\":\"application/json; charset=utf-8\"\n",
    "}\n",
    "\n",
    "connect_response = requests.post('http://192.168.1.188:20000/osc/commands/execute', data=json.dumps(connect_param), headers = connect_header)\n",
    "my_fingerprint = connect_response.json()['results']['Fingerprint'] # access token for this specific connection\n",
    "\n",
    "###### connection estbalished\n",
    "\n",
    "# You will have to check for state at least once per 10 second. But the maximum speed you can do is 1 check per second\n",
    "# check for state. \n",
    "header = {\n",
    "    \"Fingerprint\":my_fingerprint,\n",
    "    \"Content-Type\":\"application/json; charset=utf-8\"\n",
    "}\n",
    "\n",
    "r = requests.post('http://192.168.1.188:20000/osc/state', headers=header)\n",
    "\n",
    "\n",
    "take_pic_time = time.time()\n",
    "# take a pic\n",
    "take_pic_param = {\n",
    "  \"name\": \"camera._takePicture\",\n",
    "  \"parameters\":{\n",
    "    \"origin\":{\n",
    "      \"mime\":\"jpeg\", \n",
    "      \"width\":4000,\n",
    "      \"height\":3000,\n",
    "      \"saveOrigin\":False,\n",
    "      \"storage_loc\":1 \n",
    "    },\n",
    "    \"stiching\":{\n",
    "      \"mode\":\"pano\", \n",
    "      \"mime\":\"jpeg\", \n",
    "      \"width\":3840, \n",
    "      \"height\":1920, \n",
    "      \"map\":\"equirectangular\", \n",
    "      \"algorithm\":\"normal\" \n",
    "    },\n",
    "    \"burst\":{\"enable\":False, \"count\":0},\n",
    "    \"hdr\":{\"enable\":False, \"count\":0, \"min_ev\":0, \"max_ev\":0},\n",
    "    \"bracket\":{\"enable\":False, \"count\":0, \"min_ev\":0, \"max_ev\":0}, \n",
    "    \"delay\":0,\n",
    "  }\n",
    "}\n",
    "\n",
    "\n",
    "take_pic_response = requests.post('http://192.168.1.188:20000/osc/commands/execute', data=json.dumps(take_pic_param), headers = header)\n",
    "\n",
    "this_img_int = take_pic_response.json()[\"sequence\"] #the id of your pic\n",
    "get_result_param = {\n",
    "  \"name\":\"camera._getResult\",\n",
    "  \"parameters\": {\n",
    "    \"list_ids\": [this_img_int]\n",
    "  }\n",
    "}\n",
    "\n",
    "\n",
    "while True:\n",
    "  state_response = requests.post('http://192.168.1.188:20000/osc/state', headers=header)\n",
    "  if this_img_int in state_response.json()[\"state\"][\"_idRes\"]: # the photo is done processing, ready for me to take\n",
    "    result_response = requests.post('http://192.168.1.188:20000/osc/commands/execute', data=json.dumps(get_result_param), headers = header)\n",
    "    print('total time used: ', time.time()-take_pic_time)\n",
    "    break\n",
    "  time.sleep(1)\n",
    "\n",
    "pic_url = result_response.json()[\"results\"][\"res_array\"][0][\"results\"][\"results\"][\"_picUrl\"]\n",
    "pic_url = 'http://192.168.1.188:8000' + pic_url + '/pano.jpg'\n",
    "\n",
    "\n",
    "pic = requests.get(pic_url)"
   ]
  },
  {
   "cell_type": "code",
   "execution_count": null,
   "metadata": {},
   "outputs": [],
   "source": [
    "with open(r'./test.jpeg','wb') as f:\n",
    "    f.write(pic.content)"
   ]
  },
  {
   "cell_type": "code",
   "execution_count": null,
   "metadata": {},
   "outputs": [],
   "source": [
    "# plt.imshow(pic.content)"
   ]
  },
  {
   "cell_type": "code",
   "execution_count": null,
   "metadata": {},
   "outputs": [],
   "source": []
  }
 ],
 "metadata": {
  "kernelspec": {
   "display_name": "Python 3.6.9 64-bit",
   "language": "python",
   "name": "python3"
  },
  "language_info": {
   "codemirror_mode": {
    "name": "ipython",
    "version": 3
   },
   "file_extension": ".py",
   "mimetype": "text/x-python",
   "name": "python",
   "nbconvert_exporter": "python",
   "pygments_lexer": "ipython3",
   "version": "3.6.9"
  },
  "orig_nbformat": 4,
  "vscode": {
   "interpreter": {
    "hash": "31f2aee4e71d21fbe5cf8b01ff0e069b9275f58929596ceb00d14d90e3e16cd6"
   }
  }
 },
 "nbformat": 4,
 "nbformat_minor": 2
}
